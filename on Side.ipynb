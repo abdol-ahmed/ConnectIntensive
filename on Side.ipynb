{
 "cells": [
  {
   "cell_type": "code",
   "execution_count": 19,
   "metadata": {
    "collapsed": false
   },
   "outputs": [
    {
     "name": "stdout",
     "output_type": "stream",
     "text": [
      "Successfully imported numpy! (Version 1.10.4)\n",
      "[ 1.  3.  6.  1.  2.  4.]\n",
      "[ 0.33333333  1.          2.          3.33333333  3.66666667  4.33333333]\n",
      "[ 2.  2.  2.  2.  2.  2.]\n",
      "12.0\n",
      "19.4444444444\n",
      "19.0\n"
     ]
    }
   ],
   "source": [
    "try:\n",
    "    import numpy as np\n",
    "    print(\"Successfully imported numpy! (Version {})\".format(np.version.version))\n",
    "except ImportError:\n",
    "    print(\"Could not import numpy!\")\n",
    "\n",
    "def h1(inputs):\n",
    "    return np.mod(inputs, [9.,9.,9.,9.,9.,9.])\n",
    "\n",
    "def h2(inputs):\n",
    "    return np.divide(inputs, 3.)\n",
    "\n",
    "def h3(inputs):\n",
    "    return np.dot(inputs, 0) + 2.\n",
    "\n",
    "def calculateSumOfError(d, y):\n",
    "    return np.sum((d-y)**2.)\n",
    "\n",
    "    \n",
    "X= [1.,3.,6.,10.,11.,13.]    \n",
    "d= [1.,0.,5.,2. ,1. ,4. ]    \n",
    "\n",
    "h1_y = h1(X)\n",
    "h2_y = h2(X)\n",
    "h3_y = h3(X)\n",
    "print(\"{}\".format(h1_y))\n",
    "print(\"{}\".format(h2_y))\n",
    "print(\"{}\".format(h3_y))\n",
    "\n",
    "print(\"{}\".format(calculateSumOfError(d, h1_y)))\n",
    "print(\"{}\".format(calculateSumOfError(d, h2_y)))\n",
    "print(\"{}\".format(calculateSumOfError(d, h3_y)))\n",
    "\n",
    "\n"
   ]
  },
  {
   "cell_type": "code",
   "execution_count": null,
   "metadata": {
    "collapsed": true
   },
   "outputs": [],
   "source": []
  }
 ],
 "metadata": {
  "kernelspec": {
   "display_name": "Python 2",
   "language": "python",
   "name": "python2"
  },
  "language_info": {
   "codemirror_mode": {
    "name": "ipython",
    "version": 2
   },
   "file_extension": ".py",
   "mimetype": "text/x-python",
   "name": "python",
   "nbconvert_exporter": "python",
   "pygments_lexer": "ipython2",
   "version": "2.7.12"
  }
 },
 "nbformat": 4,
 "nbformat_minor": 1
}
